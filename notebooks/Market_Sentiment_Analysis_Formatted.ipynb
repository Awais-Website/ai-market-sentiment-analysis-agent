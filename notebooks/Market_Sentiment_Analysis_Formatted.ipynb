{
 "cells": [
  {
   "cell_type": "markdown",
   "id": "de5d2e4f",
   "metadata": {},
   "source": [
    "# Market Sentiment Analysis\n",
    "This notebook analyzes **real-time financial news sentiment** using:\n",
    "- **SerpAPI** for fetching the latest financial news.\n",
    "- **OpenAI GPT-4.0 Mini** for sentiment classification.\n",
    "- **Pandas** for data processing and report generation.\n",
    "\n",
    "The goal is to provide **market risk insights** based on real-time data."
   ]
  },
  {
   "cell_type": "markdown",
   "id": "b39f13bd",
   "metadata": {},
   "source": [
    "# Real-Time Market Sentiment Analysis\n",
    "This notebook fetches **real-time financial news** using **SerpAPI**, analyzes sentiment with **GPT-4.0 Mini**, and generates a **Market Risk Summary**."
   ]
  },
  {
   "cell_type": "markdown",
   "id": "6683d70a",
   "metadata": {},
   "source": [
    "## 1️⃣ Install & Import Dependencies\n",
    "Ensure all required libraries are installed before proceeding."
   ]
  },
  {
   "cell_type": "code",
   "execution_count": 11,
   "id": "ceab5473-abae-45c8-8d90-55f19a21e63c",
   "metadata": {},
   "outputs": [
    {
     "name": "stdout",
     "output_type": "stream",
     "text": [
      "Requirement already satisfied: openai in c:\\users\\ubaid\\anaconda3\\envs\\gba468\\lib\\site-packages (1.60.2)\n",
      "Requirement already satisfied: langchain in c:\\users\\ubaid\\anaconda3\\envs\\gba468\\lib\\site-packages (0.3.18)\n",
      "Requirement already satisfied: langchain-openai in c:\\users\\ubaid\\anaconda3\\envs\\gba468\\lib\\site-packages (0.3.5)\n",
      "Requirement already satisfied: anyio<5,>=3.5.0 in c:\\users\\ubaid\\anaconda3\\envs\\gba468\\lib\\site-packages (from openai) (4.6.2)\n",
      "Requirement already satisfied: distro<2,>=1.7.0 in c:\\users\\ubaid\\anaconda3\\envs\\gba468\\lib\\site-packages (from openai) (1.9.0)\n",
      "Requirement already satisfied: httpx<1,>=0.23.0 in c:\\users\\ubaid\\anaconda3\\envs\\gba468\\lib\\site-packages (from openai) (0.27.0)\n",
      "Requirement already satisfied: jiter<1,>=0.4.0 in c:\\users\\ubaid\\anaconda3\\envs\\gba468\\lib\\site-packages (from openai) (0.8.2)\n",
      "Requirement already satisfied: pydantic<3,>=1.9.0 in c:\\users\\ubaid\\anaconda3\\envs\\gba468\\lib\\site-packages (from openai) (2.10.6)\n",
      "Requirement already satisfied: sniffio in c:\\users\\ubaid\\anaconda3\\envs\\gba468\\lib\\site-packages (from openai) (1.3.0)\n",
      "Requirement already satisfied: tqdm>4 in c:\\users\\ubaid\\anaconda3\\envs\\gba468\\lib\\site-packages (from openai) (4.67.1)\n",
      "Requirement already satisfied: typing-extensions<5,>=4.11 in c:\\users\\ubaid\\anaconda3\\envs\\gba468\\lib\\site-packages (from openai) (4.12.2)\n",
      "Requirement already satisfied: langchain-core<1.0.0,>=0.3.34 in c:\\users\\ubaid\\anaconda3\\envs\\gba468\\lib\\site-packages (from langchain) (0.3.35)\n",
      "Requirement already satisfied: langchain-text-splitters<1.0.0,>=0.3.6 in c:\\users\\ubaid\\anaconda3\\envs\\gba468\\lib\\site-packages (from langchain) (0.3.6)\n",
      "Requirement already satisfied: langsmith<0.4,>=0.1.17 in c:\\users\\ubaid\\anaconda3\\envs\\gba468\\lib\\site-packages (from langchain) (0.3.8)\n",
      "Requirement already satisfied: SQLAlchemy<3,>=1.4 in c:\\users\\ubaid\\anaconda3\\envs\\gba468\\lib\\site-packages (from langchain) (2.0.38)\n",
      "Requirement already satisfied: requests<3,>=2 in c:\\users\\ubaid\\anaconda3\\envs\\gba468\\lib\\site-packages (from langchain) (2.32.3)\n",
      "Requirement already satisfied: PyYAML>=5.3 in c:\\users\\ubaid\\anaconda3\\envs\\gba468\\lib\\site-packages (from langchain) (6.0.2)\n",
      "Requirement already satisfied: aiohttp<4.0.0,>=3.8.3 in c:\\users\\ubaid\\anaconda3\\envs\\gba468\\lib\\site-packages (from langchain) (3.11.12)\n",
      "Requirement already satisfied: tenacity!=8.4.0,<10,>=8.1.0 in c:\\users\\ubaid\\anaconda3\\envs\\gba468\\lib\\site-packages (from langchain) (9.0.0)\n",
      "Requirement already satisfied: numpy<2,>=1.26.4 in c:\\users\\ubaid\\anaconda3\\envs\\gba468\\lib\\site-packages (from langchain) (1.26.4)\n",
      "Requirement already satisfied: async-timeout<5.0.0,>=4.0.0 in c:\\users\\ubaid\\anaconda3\\envs\\gba468\\lib\\site-packages (from langchain) (4.0.3)\n",
      "Requirement already satisfied: tiktoken<1,>=0.7 in c:\\users\\ubaid\\anaconda3\\envs\\gba468\\lib\\site-packages (from langchain-openai) (0.8.0)\n",
      "Requirement already satisfied: aiohappyeyeballs>=2.3.0 in c:\\users\\ubaid\\anaconda3\\envs\\gba468\\lib\\site-packages (from aiohttp<4.0.0,>=3.8.3->langchain) (2.4.6)\n",
      "Requirement already satisfied: aiosignal>=1.1.2 in c:\\users\\ubaid\\anaconda3\\envs\\gba468\\lib\\site-packages (from aiohttp<4.0.0,>=3.8.3->langchain) (1.3.2)\n",
      "Requirement already satisfied: attrs>=17.3.0 in c:\\users\\ubaid\\anaconda3\\envs\\gba468\\lib\\site-packages (from aiohttp<4.0.0,>=3.8.3->langchain) (24.3.0)\n",
      "Requirement already satisfied: frozenlist>=1.1.1 in c:\\users\\ubaid\\anaconda3\\envs\\gba468\\lib\\site-packages (from aiohttp<4.0.0,>=3.8.3->langchain) (1.5.0)\n",
      "Requirement already satisfied: multidict<7.0,>=4.5 in c:\\users\\ubaid\\anaconda3\\envs\\gba468\\lib\\site-packages (from aiohttp<4.0.0,>=3.8.3->langchain) (6.1.0)\n",
      "Requirement already satisfied: propcache>=0.2.0 in c:\\users\\ubaid\\anaconda3\\envs\\gba468\\lib\\site-packages (from aiohttp<4.0.0,>=3.8.3->langchain) (0.2.1)\n",
      "Requirement already satisfied: yarl<2.0,>=1.17.0 in c:\\users\\ubaid\\anaconda3\\envs\\gba468\\lib\\site-packages (from aiohttp<4.0.0,>=3.8.3->langchain) (1.18.3)\n",
      "Requirement already satisfied: idna>=2.8 in c:\\users\\ubaid\\anaconda3\\envs\\gba468\\lib\\site-packages (from anyio<5,>=3.5.0->openai) (3.7)\n",
      "Requirement already satisfied: exceptiongroup>=1.0.2 in c:\\users\\ubaid\\anaconda3\\envs\\gba468\\lib\\site-packages (from anyio<5,>=3.5.0->openai) (1.2.0)\n",
      "Requirement already satisfied: certifi in c:\\users\\ubaid\\anaconda3\\envs\\gba468\\lib\\site-packages (from httpx<1,>=0.23.0->openai) (2024.12.14)\n",
      "Requirement already satisfied: httpcore==1.* in c:\\users\\ubaid\\anaconda3\\envs\\gba468\\lib\\site-packages (from httpx<1,>=0.23.0->openai) (1.0.2)\n",
      "Requirement already satisfied: h11<0.15,>=0.13 in c:\\users\\ubaid\\anaconda3\\envs\\gba468\\lib\\site-packages (from httpcore==1.*->httpx<1,>=0.23.0->openai) (0.14.0)\n",
      "Requirement already satisfied: jsonpatch<2.0,>=1.33 in c:\\users\\ubaid\\anaconda3\\envs\\gba468\\lib\\site-packages (from langchain-core<1.0.0,>=0.3.34->langchain) (1.33)\n",
      "Requirement already satisfied: packaging<25,>=23.2 in c:\\users\\ubaid\\anaconda3\\envs\\gba468\\lib\\site-packages (from langchain-core<1.0.0,>=0.3.34->langchain) (24.2)\n",
      "Requirement already satisfied: orjson<4.0.0,>=3.9.14 in c:\\users\\ubaid\\anaconda3\\envs\\gba468\\lib\\site-packages (from langsmith<0.4,>=0.1.17->langchain) (3.10.15)\n",
      "Requirement already satisfied: requests-toolbelt<2.0.0,>=1.0.0 in c:\\users\\ubaid\\anaconda3\\envs\\gba468\\lib\\site-packages (from langsmith<0.4,>=0.1.17->langchain) (1.0.0)\n",
      "Requirement already satisfied: zstandard<0.24.0,>=0.23.0 in c:\\users\\ubaid\\anaconda3\\envs\\gba468\\lib\\site-packages (from langsmith<0.4,>=0.1.17->langchain) (0.23.0)\n",
      "Requirement already satisfied: annotated-types>=0.6.0 in c:\\users\\ubaid\\anaconda3\\envs\\gba468\\lib\\site-packages (from pydantic<3,>=1.9.0->openai) (0.7.0)\n",
      "Requirement already satisfied: pydantic-core==2.27.2 in c:\\users\\ubaid\\anaconda3\\envs\\gba468\\lib\\site-packages (from pydantic<3,>=1.9.0->openai) (2.27.2)\n",
      "Requirement already satisfied: charset-normalizer<4,>=2 in c:\\users\\ubaid\\anaconda3\\envs\\gba468\\lib\\site-packages (from requests<3,>=2->langchain) (3.3.2)\n",
      "Requirement already satisfied: urllib3<3,>=1.21.1 in c:\\users\\ubaid\\anaconda3\\envs\\gba468\\lib\\site-packages (from requests<3,>=2->langchain) (2.3.0)\n",
      "Requirement already satisfied: greenlet!=0.4.17 in c:\\users\\ubaid\\anaconda3\\envs\\gba468\\lib\\site-packages (from SQLAlchemy<3,>=1.4->langchain) (3.1.1)\n",
      "Requirement already satisfied: regex>=2022.1.18 in c:\\users\\ubaid\\anaconda3\\envs\\gba468\\lib\\site-packages (from tiktoken<1,>=0.7->langchain-openai) (2024.11.6)\n",
      "Requirement already satisfied: colorama in c:\\users\\ubaid\\anaconda3\\envs\\gba468\\lib\\site-packages (from tqdm>4->openai) (0.4.6)\n",
      "Requirement already satisfied: jsonpointer>=1.9 in c:\\users\\ubaid\\anaconda3\\envs\\gba468\\lib\\site-packages (from jsonpatch<2.0,>=1.33->langchain-core<1.0.0,>=0.3.34->langchain) (3.0.0)\n"
     ]
    }
   ],
   "source": [
    "!pip install openai langchain langchain-openai"
   ]
  },
  {
   "cell_type": "code",
   "execution_count": 12,
   "id": "cfc1b591",
   "metadata": {
    "scrolled": true
   },
   "outputs": [
    {
     "name": "stdout",
     "output_type": "stream",
     "text": [
      "Requirement already satisfied: openai in c:\\users\\ubaid\\anaconda3\\envs\\gba468\\lib\\site-packages (1.60.2)\n",
      "Requirement already satisfied: serpapi in c:\\users\\ubaid\\anaconda3\\envs\\gba468\\lib\\site-packages (0.1.5)\n",
      "Requirement already satisfied: pandas in c:\\users\\ubaid\\anaconda3\\envs\\gba468\\lib\\site-packages (2.2.3)\n",
      "Requirement already satisfied: anyio<5,>=3.5.0 in c:\\users\\ubaid\\anaconda3\\envs\\gba468\\lib\\site-packages (from openai) (4.6.2)\n",
      "Requirement already satisfied: distro<2,>=1.7.0 in c:\\users\\ubaid\\anaconda3\\envs\\gba468\\lib\\site-packages (from openai) (1.9.0)\n",
      "Requirement already satisfied: httpx<1,>=0.23.0 in c:\\users\\ubaid\\anaconda3\\envs\\gba468\\lib\\site-packages (from openai) (0.27.0)\n",
      "Requirement already satisfied: jiter<1,>=0.4.0 in c:\\users\\ubaid\\anaconda3\\envs\\gba468\\lib\\site-packages (from openai) (0.8.2)\n",
      "Requirement already satisfied: pydantic<3,>=1.9.0 in c:\\users\\ubaid\\anaconda3\\envs\\gba468\\lib\\site-packages (from openai) (2.10.6)\n",
      "Requirement already satisfied: sniffio in c:\\users\\ubaid\\anaconda3\\envs\\gba468\\lib\\site-packages (from openai) (1.3.0)\n",
      "Requirement already satisfied: tqdm>4 in c:\\users\\ubaid\\anaconda3\\envs\\gba468\\lib\\site-packages (from openai) (4.67.1)\n",
      "Requirement already satisfied: typing-extensions<5,>=4.11 in c:\\users\\ubaid\\anaconda3\\envs\\gba468\\lib\\site-packages (from openai) (4.12.2)\n",
      "Requirement already satisfied: requests in c:\\users\\ubaid\\anaconda3\\envs\\gba468\\lib\\site-packages (from serpapi) (2.32.3)\n",
      "Requirement already satisfied: numpy>=1.22.4 in c:\\users\\ubaid\\anaconda3\\envs\\gba468\\lib\\site-packages (from pandas) (1.26.4)\n",
      "Requirement already satisfied: python-dateutil>=2.8.2 in c:\\users\\ubaid\\anaconda3\\envs\\gba468\\lib\\site-packages (from pandas) (2.9.0.post0)\n",
      "Requirement already satisfied: pytz>=2020.1 in c:\\users\\ubaid\\anaconda3\\envs\\gba468\\lib\\site-packages (from pandas) (2024.1)\n",
      "Requirement already satisfied: tzdata>=2022.7 in c:\\users\\ubaid\\anaconda3\\envs\\gba468\\lib\\site-packages (from pandas) (2023.3)\n",
      "Requirement already satisfied: idna>=2.8 in c:\\users\\ubaid\\anaconda3\\envs\\gba468\\lib\\site-packages (from anyio<5,>=3.5.0->openai) (3.7)\n",
      "Requirement already satisfied: exceptiongroup>=1.0.2 in c:\\users\\ubaid\\anaconda3\\envs\\gba468\\lib\\site-packages (from anyio<5,>=3.5.0->openai) (1.2.0)\n",
      "Requirement already satisfied: certifi in c:\\users\\ubaid\\anaconda3\\envs\\gba468\\lib\\site-packages (from httpx<1,>=0.23.0->openai) (2024.12.14)\n",
      "Requirement already satisfied: httpcore==1.* in c:\\users\\ubaid\\anaconda3\\envs\\gba468\\lib\\site-packages (from httpx<1,>=0.23.0->openai) (1.0.2)\n",
      "Requirement already satisfied: h11<0.15,>=0.13 in c:\\users\\ubaid\\anaconda3\\envs\\gba468\\lib\\site-packages (from httpcore==1.*->httpx<1,>=0.23.0->openai) (0.14.0)\n",
      "Requirement already satisfied: annotated-types>=0.6.0 in c:\\users\\ubaid\\anaconda3\\envs\\gba468\\lib\\site-packages (from pydantic<3,>=1.9.0->openai) (0.7.0)\n",
      "Requirement already satisfied: pydantic-core==2.27.2 in c:\\users\\ubaid\\anaconda3\\envs\\gba468\\lib\\site-packages (from pydantic<3,>=1.9.0->openai) (2.27.2)\n",
      "Requirement already satisfied: six>=1.5 in c:\\users\\ubaid\\anaconda3\\envs\\gba468\\lib\\site-packages (from python-dateutil>=2.8.2->pandas) (1.16.0)\n",
      "Requirement already satisfied: colorama in c:\\users\\ubaid\\anaconda3\\envs\\gba468\\lib\\site-packages (from tqdm>4->openai) (0.4.6)\n",
      "Requirement already satisfied: charset-normalizer<4,>=2 in c:\\users\\ubaid\\anaconda3\\envs\\gba468\\lib\\site-packages (from requests->serpapi) (3.3.2)\n",
      "Requirement already satisfied: urllib3<3,>=1.21.1 in c:\\users\\ubaid\\anaconda3\\envs\\gba468\\lib\\site-packages (from requests->serpapi) (2.3.0)\n"
     ]
    }
   ],
   "source": [
    "!pip install openai serpapi pandas"
   ]
  },
  {
   "cell_type": "markdown",
   "id": "edafc4cd",
   "metadata": {},
   "source": [
    "## 2️⃣ Fetch Real-Time Financial News\n",
    "Use **SerpAPI** to retrieve the latest financial headlines. These will be analyzed to assess market sentiment."
   ]
  },
  {
   "cell_type": "code",
   "execution_count": 13,
   "id": "fdb5a786-80ce-4265-a5d1-3efac3a8c137",
   "metadata": {},
   "outputs": [
    {
     "name": "stdout",
     "output_type": "stream",
     "text": [
      "Found existing installation: google_search_results 2.4.2\n",
      "Uninstalling google_search_results-2.4.2:\n",
      "  Successfully uninstalled google_search_results-2.4.2\n"
     ]
    }
   ],
   "source": [
    "!pip uninstall google-search-results -y\n"
   ]
  },
  {
   "cell_type": "markdown",
   "id": "07149e5e",
   "metadata": {},
   "source": [
    "## 3️⃣ Analyze Sentiment Using GPT-4\n",
    "Each headline is passed to **GPT-4.0 Mini**, which classifies the sentiment as **Positive, Negative, or Neutral**."
   ]
  },
  {
   "cell_type": "code",
   "execution_count": 14,
   "id": "d6364873-5c27-4a51-b109-b712354369ae",
   "metadata": {},
   "outputs": [
    {
     "name": "stdout",
     "output_type": "stream",
     "text": [
      "Collecting google-search-results\n",
      "  Using cached google_search_results-2.4.2-py3-none-any.whl\n",
      "Requirement already satisfied: requests in c:\\users\\ubaid\\anaconda3\\envs\\gba468\\lib\\site-packages (from google-search-results) (2.32.3)\n",
      "Requirement already satisfied: charset-normalizer<4,>=2 in c:\\users\\ubaid\\anaconda3\\envs\\gba468\\lib\\site-packages (from requests->google-search-results) (3.3.2)\n",
      "Requirement already satisfied: idna<4,>=2.5 in c:\\users\\ubaid\\anaconda3\\envs\\gba468\\lib\\site-packages (from requests->google-search-results) (3.7)\n",
      "Requirement already satisfied: urllib3<3,>=1.21.1 in c:\\users\\ubaid\\anaconda3\\envs\\gba468\\lib\\site-packages (from requests->google-search-results) (2.3.0)\n",
      "Requirement already satisfied: certifi>=2017.4.17 in c:\\users\\ubaid\\anaconda3\\envs\\gba468\\lib\\site-packages (from requests->google-search-results) (2024.12.14)\n",
      "Installing collected packages: google-search-results\n",
      "Successfully installed google-search-results-2.4.2\n"
     ]
    }
   ],
   "source": [
    "!pip install google-search-results --upgrade\n"
   ]
  },
  {
   "cell_type": "markdown",
   "id": "bd3acbaa",
   "metadata": {},
   "source": [
    "## 4️⃣ Generate Market Sentiment Report\n",
    "Summarizes the sentiment distribution and provides insights into overall market risk."
   ]
  },
  {
   "cell_type": "code",
   "execution_count": 15,
   "id": "0bc2cd18-41dd-4e16-9c6c-454820b54dc4",
   "metadata": {},
   "outputs": [
    {
     "name": "stdout",
     "output_type": "stream",
     "text": [
      "['AppleAppStoreSearch', 'BaiduSearch', 'BingSearch', 'DuckDuckGoSearch', 'EbaySearch', 'GoogleScholarSearch', 'GoogleSearch', 'HomeDepotSearch', 'NaverSearch', 'SerpApiClient', 'WalmartSearch', 'YahooSearch', 'YandexSearch', 'YoutubeSearch', '__builtins__', '__cached__', '__doc__', '__file__', '__loader__', '__name__', '__package__', '__path__', '__spec__', 'apple_app_store_search', 'baidu_search', 'bing_search', 'constant', 'duck_duck_go_search', 'ebay_search', 'google_scholar_search', 'google_search', 'home_depot_search', 'naver_search', 'pagination', 'serp_api_client', 'serp_api_client_exception', 'walmart_search', 'yahoo_search', 'yandex_search', 'youtube_search']\n"
     ]
    }
   ],
   "source": [
    "import serpapi\n",
    "print(dir(serpapi))\n"
   ]
  },
  {
   "cell_type": "markdown",
   "id": "148b144a",
   "metadata": {},
   "source": [
    "## 5️⃣ Conclusion\n",
    "This approach allows for **automated, real-time sentiment tracking** to assist risk managers in making informed decisions.\n",
    "Future improvements could include **more advanced sentiment scoring**, integration with **trading algorithms**, or expansion to **specific stock categories**."
   ]
  },
  {
   "cell_type": "code",
   "execution_count": null,
   "id": "ca6019ad-1d06-4749-bbd8-fd960be7a607",
   "metadata": {},
   "outputs": [
    {
     "name": "stdout",
     "output_type": "stream",
     "text": [
      "Stock market today: Dow, S&P 500, Nasdaq edge higher amid latest inflation test, Trump's next tariff salvo\n",
      "Stocks rise as investors try to shake off inflation and tariff concerns: Live updates\n",
      "Stock Market Today: S&P 500, Nasdaq Rise; Robinhood, AppLovin Stocks in Focus — Live Updates\n",
      "Stock Market Today: Dow, S&P 500, Nasdaq Open Up After PPI Data; SMCI, Nvidia, Intel, More Movers\n",
      "Stock Market Today: AppLovin Rockets 38%, Triggers Unique Hold Rule As Indexes Climb (Live Coverage)\n"
     ]
    }
   ],
   "source": [
    "import os\n",
    "import requests\n",
    "\n",
    "# Load SerpAPI key from environment\n",
    "SERPAPI_KEY = os.getenv(\"SERPAPI_API_KEY\")\n",
    "if not SERPAPI_KEY:\n",
    "    raise RuntimeError(\"Missing SERPAPI_API_KEY environment variable.\")\n",
    "\n",
    "# Define search parameters\n",
    "params = {\n",
    "    \"q\": \"stock market news\",\n",
    "    \"tbm\": \"nws\",  # News search mode\n",
    "    \"api_key\": SERPAPI_KEY\n",
    "}\n",
    "\n",
    "# Make a request to SerpAPI\n",
    "response = requests.get(\"https://serpapi.com/search\", params=params)\n",
    "response.raise_for_status()\n",
    "\n",
    "# Parse the response\n",
    "data = response.json()\n",
    "news_results = data.get(\"news_results\", [])\n",
    "\n",
    "# Print the first few news headlines\n",
    "for article in news_results[:5]:\n",
    "    print(article[\"title\"])\n"
   ]
  },
  {
   "cell_type": "code",
   "execution_count": null,
   "id": "149c8e4d-b261-4ca2-937d-1609d946c014",
   "metadata": {},
   "outputs": [],
   "source": [
    "import os\n",
    "from openai import OpenAI\n",
    "\n",
    "# Load OpenAI API key from environment\n",
    "OPENAI_API_KEY = os.getenv(\"OPENAI_API_KEY\")\n",
    "if not OPENAI_API_KEY:\n",
    "    raise RuntimeError(\"Missing OPENAI_API_KEY environment variable.\")\n",
    "\n",
    "client = OpenAI(api_key=OPENAI_API_KEY)\n",
    "\n",
    "def analyze_sentiment_gpt4(text):\n",
    "    \"\"\"Uses GPT-4.0 Turbo to classify sentiment.\"\"\"\n",
    "    response = client.chat.completions.create(\n",
    "        model=\"gpt-4-turbo\",\n",
    "        messages=[\n",
    "            {\"role\": \"system\", \"content\": \"Analyze the sentiment of the given financial news headline. Reply with only one word: Positive, Negative, or Neutral.\"},\n",
    "            {\"role\": \"user\", \"content\": text},\n",
    "        ],\n",
    "        temperature=0,\n",
    "    )\n",
    "    return response.choices[0].message.content.strip()\n"
   ]
  },
  {
   "cell_type": "code",
   "execution_count": null,
   "id": "7bd241e0-0bff-45a7-98b9-33bdfd88efb6",
   "metadata": {},
   "outputs": [],
   "source": [
    "# (Consolidated in previous cell) This cell is intentionally left minimal to avoid duplicating API key usage.\n",
    "from openai import OpenAI  # noqa: F401\n"
   ]
  },
  {
   "cell_type": "code",
   "execution_count": null,
   "id": "96f1bfe4-f1ce-47fb-a432-10f41935e5c5",
   "metadata": {},
   "outputs": [
    {
     "name": "stdout",
     "output_type": "stream",
     "text": [
      "Headline: Stock market today: Dow, S&P 500, Nasdaq edge higher amid latest inflation test, Trump's next tariff salvo\n",
      "Sentiment: Neutral\n",
      "\n",
      "Headline: Stocks rise as investors try to shake off inflation and tariff concerns: Live updates\n",
      "Sentiment: Positive\n",
      "\n",
      "Headline: Stock Market Today: S&P 500, Nasdaq Rise; Robinhood, AppLovin Stocks in Focus — Live Updates\n",
      "Sentiment: Positive\n",
      "\n",
      "Headline: Stock Market Today: Dow, S&P 500, Nasdaq Open Up After PPI Data; SMCI, Nvidia, Intel, More Movers\n",
      "Sentiment: Positive\n",
      "\n",
      "Headline: Stock Market Today: AppLovin Rockets 38%, Triggers Unique Hold Rule As Indexes Climb (Live Coverage)\n",
      "Sentiment: Positive\n",
      "\n"
     ]
    }
   ],
   "source": [
    "# Analyze sentiment of each news headli\n",
    "sentiment_results = {article[\"title\"]: analyze_sentiment_gpt4(article[\"title\"]) for article in news_results[:5]}\n",
    "\n",
    "# Print sentiment results\n",
    "for headline, sentiment in sentiment_results.items():\n",
    "    print(f\"Headline: {headline}\\nSentiment: {sentiment}\\n\")\n",
    "\n"
   ]
  },
  {
   "cell_type": "code",
   "execution_count": 20,
   "id": "a1333e9d-5a6b-472a-9a6e-519317186b62",
   "metadata": {},
   "outputs": [
    {
     "name": "stdout",
     "output_type": "stream",
     "text": [
      "📈 **Market Sentiment Report:**\n",
      "\n",
      "Positive: 80.00%\n",
      "Neutral: 20.00%\n",
      "\n",
      "✅ **Market sentiment is largely positive. Growth opportunities ahead.**\n"
     ]
    }
   ],
   "source": [
    "import pandas as pd\n",
    "\n",
    "def generate_market_summary(sentiment_results):\n",
    "    \"\"\"Creates a market sentiment report based on sentiment distribution.\"\"\"\n",
    "    sentiment_counts = pd.Series(sentiment_results.values()).value_counts(normalize=True) * 100\n",
    "    summary = \"📈 **Market Sentiment Report:**\\n\\n\"\n",
    "    \n",
    "    for sentiment, percentage in sentiment_counts.items():\n",
    "        summary += f\"{sentiment}: {percentage:.2f}%\\n\"\n",
    "    \n",
    "    if sentiment_counts.get(\"Negative\", 0) > 50:\n",
    "        summary += \"\\n⚠️ **High risk detected:** Market sentiment is largely negative. Caution advised.\"\n",
    "    elif sentiment_counts.get(\"Positive\", 0) > 50:\n",
    "        summary += \"\\n✅ **Market sentiment is largely positive. Growth opportunities ahead.**\"\n",
    "    else:\n",
    "        summary += \"\\n🔸 **Market sentiment is neutral. Mixed signals observed.**\"\n",
    "\n",
    "    return summary\n",
    "\n",
    "# Generate and print summary\n",
    "market_summary = generate_market_summary(sentiment_results)\n",
    "print(market_summary)\n"
   ]
  },
  {
   "cell_type": "code",
   "execution_count": null,
   "id": "17fddc72-e596-4f6f-ae80-5a321a2bd296",
   "metadata": {},
   "outputs": [],
   "source": []
  }
 ],
 "metadata": {
  "kernelspec": {
   "display_name": "Python 3 (ipykernel)",
   "language": "python",
   "name": "python3"
  },
  "language_info": {
   "codemirror_mode": {
    "name": "ipython",
    "version": 3
   },
   "file_extension": ".py",
   "mimetype": "text/x-python",
   "name": "python",
   "nbconvert_exporter": "python",
   "pygments_lexer": "ipython3",
   "version": "3.9.21"
  }
 },
 "nbformat": 4,
 "nbformat_minor": 5
}
